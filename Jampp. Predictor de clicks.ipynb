{
 "cells": [
  {
   "cell_type": "markdown",
   "metadata": {
    "colab_type": "text",
    "id": "IFY8g9kOaGDv"
   },
   "source": [
    "# **JAMPP - Predicción de Probabilidad de Clicks**"
   ]
  },
  {
   "cell_type": "markdown",
   "metadata": {
    "colab_type": "text",
    "id": "99XrsmDT2Kr0"
   },
   "source": [
    "# Archivos y librerías"
   ]
  },
  {
   "cell_type": "markdown",
   "metadata": {
    "colab_type": "text",
    "id": "yDMI5esDzfiN"
   },
   "source": [
    "**Los archivos se encuentran alojados en Google Drive, para lo cual se ejecutan los siguientes comandos a fin de importarlos a la notebook**"
   ]
  },
  {
   "cell_type": "code",
   "execution_count": 1,
   "metadata": {
    "colab": {
     "base_uri": "https://localhost:8080/",
     "height": 185
    },
    "colab_type": "code",
    "executionInfo": {
     "elapsed": 21724,
     "status": "ok",
     "timestamp": 1540859632606,
     "user": {
      "displayName": "Gaston D",
      "photoUrl": "",
      "userId": "10561704506045505038"
     },
     "user_tz": 180
    },
    "id": "C_4kzFwSL7Xf",
    "outputId": "a4baafab-5bf1-48cd-e82a-18daca25a104"
   },
   "outputs": [],
   "source": [
    "# # Se listan todos los archivos a importar\n",
    "\n",
    "archivos_train = ['ctr_15.zip',\n",
    "                 'ctr_16.zip',\n",
    "                 'ctr_17.zip',\n",
    "                 'ctr_18.zip',\n",
    "                 'ctr_19.zip',\n",
    "                 'ctr_20.zip',\n",
    "                 'ctr_21.zip'\n",
    "                 ]\n",
    "\n",
    "# archivos_otros = ['ctr_test.zip',\n",
    "#                   'ctr_test_labeled.zip']"
   ]
  },
  {
   "cell_type": "code",
   "execution_count": 2,
   "metadata": {},
   "outputs": [],
   "source": [
    "import pandas as pd\n",
    "from tqdm.notebook import tqdm\n",
    "import seaborn as sns"
   ]
  },
  {
   "cell_type": "markdown",
   "metadata": {
    "colab_type": "text",
    "id": "DABFTi_GzVk2"
   },
   "source": [
    "# Exploratorio"
   ]
  },
  {
   "cell_type": "code",
   "execution_count": 3,
   "metadata": {
    "colab": {
     "base_uri": "https://localhost:8080/",
     "height": 168
    },
    "colab_type": "code",
    "executionInfo": {
     "elapsed": 234223,
     "status": "ok",
     "timestamp": 1540842270672,
     "user": {
      "displayName": "Gaston D",
      "photoUrl": "",
      "userId": "10561704506045505038"
     },
     "user_tz": 180
    },
    "id": "Coh8U8SDa4oD",
    "outputId": "28e3918a-8a73-453f-939a-9ae7343ebe5e"
   },
   "outputs": [
    {
     "data": {
      "application/vnd.jupyter.widget-view+json": {
       "model_id": "",
       "version_major": 2,
       "version_minor": 0
      },
      "text/plain": [
       "HBox(children=(FloatProgress(value=0.0, max=7.0), HTML(value='')))"
      ]
     },
     "metadata": {},
     "output_type": "display_data"
    },
    {
     "name": "stdout",
     "output_type": "stream",
     "text": [
      "ctr_15.zip 1239524 1115571 1115571\n",
      "ctr_16.zip 1092413 983171 2098742\n",
      "ctr_17.zip 1093607 984246 3082988\n",
      "ctr_18.zip 1013581 912222 3995210\n",
      "ctr_19.zip 1326180 1193562 5188772\n",
      "ctr_20.zip 1356066 1220459 6409231\n",
      "ctr_21.zip 1523221 1370898 7780129\n",
      "\n",
      " df (7780129, 52)\n"
     ]
    }
   ],
   "source": [
    "df = pd.DataFrame()\n",
    "porcentaje = 0.90\n",
    "for x in tqdm(archivos_train,leave=False):\n",
    "\n",
    "    df_i = pd.read_csv('./' + x ,compression='zip', encoding = 'UTF-8')\n",
    "    n_raw = df_i.shape[0]\n",
    "    n_porc = int(n_raw*porcentaje)\n",
    "    \n",
    "    df = pd.concat([df,df_i.sample(n_porc,random_state=10)], axis=0)\n",
    "    print (x, n_raw,n_porc,df.shape[0])\n",
    "  \n",
    "    del df_i, n_raw, n_porc\n",
    "      \n",
    "print('\\n','df',df.shape)\n",
    "# print('df_test', df_test.shape)"
   ]
  },
  {
   "cell_type": "code",
   "execution_count": 4,
   "metadata": {
    "colab": {
     "base_uri": "https://localhost:8080/",
     "height": 244
    },
    "colab_type": "code",
    "executionInfo": {
     "elapsed": 832,
     "status": "ok",
     "timestamp": 1540842271576,
     "user": {
      "displayName": "Gaston D",
      "photoUrl": "",
      "userId": "10561704506045505038"
     },
     "user_tz": 180
    },
    "id": "r9VL5WL_PKea",
    "outputId": "e0542d71-fd2d-4237-d697-a8e76a9021a0"
   },
   "outputs": [
    {
     "data": {
      "text/html": [
       "<div>\n",
       "<style scoped>\n",
       "    .dataframe tbody tr th:only-of-type {\n",
       "        vertical-align: middle;\n",
       "    }\n",
       "\n",
       "    .dataframe tbody tr th {\n",
       "        vertical-align: top;\n",
       "    }\n",
       "\n",
       "    .dataframe thead th {\n",
       "        text-align: right;\n",
       "    }\n",
       "</style>\n",
       "<table border=\"1\" class=\"dataframe\">\n",
       "  <thead>\n",
       "    <tr style=\"text-align: right;\">\n",
       "      <th></th>\n",
       "      <th>Label</th>\n",
       "      <th>action_categorical_0</th>\n",
       "      <th>action_categorical_1</th>\n",
       "      <th>action_categorical_2</th>\n",
       "      <th>action_categorical_3</th>\n",
       "      <th>action_categorical_4</th>\n",
       "      <th>action_categorical_5</th>\n",
       "      <th>action_categorical_6</th>\n",
       "      <th>action_categorical_7</th>\n",
       "      <th>action_list_0</th>\n",
       "      <th>...</th>\n",
       "      <th>creative_categorical_7</th>\n",
       "      <th>creative_categorical_8</th>\n",
       "      <th>creative_categorical_9</th>\n",
       "      <th>creative_height</th>\n",
       "      <th>creative_width</th>\n",
       "      <th>device_id</th>\n",
       "      <th>device_id_type</th>\n",
       "      <th>gender</th>\n",
       "      <th>has_video</th>\n",
       "      <th>timezone_offset</th>\n",
       "    </tr>\n",
       "  </thead>\n",
       "  <tbody>\n",
       "    <tr>\n",
       "      <th>824897</th>\n",
       "      <td>1</td>\n",
       "      <td>604d011f</td>\n",
       "      <td>f71d2f9b</td>\n",
       "      <td>9e4f5826</td>\n",
       "      <td>2c66682b</td>\n",
       "      <td>c3ab0db6</td>\n",
       "      <td>79ceee49</td>\n",
       "      <td>59638795</td>\n",
       "      <td>e2538fca</td>\n",
       "      <td>IAB8-9</td>\n",
       "      <td>...</td>\n",
       "      <td>NaN</td>\n",
       "      <td>b6910b48</td>\n",
       "      <td>65dcab89</td>\n",
       "      <td>50.0</td>\n",
       "      <td>320.0</td>\n",
       "      <td>b67c4382</td>\n",
       "      <td>6324b367</td>\n",
       "      <td>m</td>\n",
       "      <td>False</td>\n",
       "      <td>4.0</td>\n",
       "    </tr>\n",
       "    <tr>\n",
       "      <th>300782</th>\n",
       "      <td>0</td>\n",
       "      <td>9915ffee</td>\n",
       "      <td>d9eb38d8</td>\n",
       "      <td>c0f33c37</td>\n",
       "      <td>9ebdf82c</td>\n",
       "      <td>6825a9aa</td>\n",
       "      <td>6bc0e29c</td>\n",
       "      <td>59638795</td>\n",
       "      <td>e2538fca</td>\n",
       "      <td>IAB22-2</td>\n",
       "      <td>...</td>\n",
       "      <td>NaN</td>\n",
       "      <td>b6910b48</td>\n",
       "      <td>65dcab89</td>\n",
       "      <td>250.0</td>\n",
       "      <td>300.0</td>\n",
       "      <td>846cc147</td>\n",
       "      <td>6324b367</td>\n",
       "      <td>NaN</td>\n",
       "      <td>False</td>\n",
       "      <td>1.0</td>\n",
       "    </tr>\n",
       "    <tr>\n",
       "      <th>804692</th>\n",
       "      <td>0</td>\n",
       "      <td>11b7af3d</td>\n",
       "      <td>ac0f362d</td>\n",
       "      <td>2f2b9920</td>\n",
       "      <td>cb80abab</td>\n",
       "      <td>79ab88b6</td>\n",
       "      <td>6bc0e29c</td>\n",
       "      <td>59638795</td>\n",
       "      <td>31b31f57</td>\n",
       "      <td>IAB22</td>\n",
       "      <td>...</td>\n",
       "      <td>NaN</td>\n",
       "      <td>b6910b48</td>\n",
       "      <td>43c867fd</td>\n",
       "      <td>480.0</td>\n",
       "      <td>320.0</td>\n",
       "      <td>17adf0a1</td>\n",
       "      <td>6324b367</td>\n",
       "      <td>NaN</td>\n",
       "      <td>False</td>\n",
       "      <td>1.0</td>\n",
       "    </tr>\n",
       "    <tr>\n",
       "      <th>1047296</th>\n",
       "      <td>0</td>\n",
       "      <td>9915ffee</td>\n",
       "      <td>dc24b79b</td>\n",
       "      <td>7c0ac8b2</td>\n",
       "      <td>7ce4e1a3</td>\n",
       "      <td>c96ff6e9</td>\n",
       "      <td>6bc0e29c</td>\n",
       "      <td>59638795</td>\n",
       "      <td>e2538fca</td>\n",
       "      <td>IAB22-2</td>\n",
       "      <td>...</td>\n",
       "      <td>NaN</td>\n",
       "      <td>b6910b48</td>\n",
       "      <td>65dcab89</td>\n",
       "      <td>50.0</td>\n",
       "      <td>320.0</td>\n",
       "      <td>4cd6a17e</td>\n",
       "      <td>c1d12c8e</td>\n",
       "      <td>m</td>\n",
       "      <td>False</td>\n",
       "      <td>1.0</td>\n",
       "    </tr>\n",
       "    <tr>\n",
       "      <th>308682</th>\n",
       "      <td>0</td>\n",
       "      <td>c2e4f717</td>\n",
       "      <td>e709bbc0</td>\n",
       "      <td>eafe914f</td>\n",
       "      <td>e7329a92</td>\n",
       "      <td>7b0ab77d</td>\n",
       "      <td>6bc0e29c</td>\n",
       "      <td>59638795</td>\n",
       "      <td>e2538fca</td>\n",
       "      <td>IAB20-6</td>\n",
       "      <td>...</td>\n",
       "      <td>NaN</td>\n",
       "      <td>b6910b48</td>\n",
       "      <td>65dcab89</td>\n",
       "      <td>50.0</td>\n",
       "      <td>320.0</td>\n",
       "      <td>5dbec82c</td>\n",
       "      <td>6324b367</td>\n",
       "      <td>m</td>\n",
       "      <td>False</td>\n",
       "      <td>1.0</td>\n",
       "    </tr>\n",
       "  </tbody>\n",
       "</table>\n",
       "<p>5 rows × 52 columns</p>\n",
       "</div>"
      ],
      "text/plain": [
       "         Label action_categorical_0 action_categorical_1 action_categorical_2  \\\n",
       "824897       1             604d011f             f71d2f9b             9e4f5826   \n",
       "300782       0             9915ffee             d9eb38d8             c0f33c37   \n",
       "804692       0             11b7af3d             ac0f362d             2f2b9920   \n",
       "1047296      0             9915ffee             dc24b79b             7c0ac8b2   \n",
       "308682       0             c2e4f717             e709bbc0             eafe914f   \n",
       "\n",
       "        action_categorical_3 action_categorical_4 action_categorical_5  \\\n",
       "824897              2c66682b             c3ab0db6             79ceee49   \n",
       "300782              9ebdf82c             6825a9aa             6bc0e29c   \n",
       "804692              cb80abab             79ab88b6             6bc0e29c   \n",
       "1047296             7ce4e1a3             c96ff6e9             6bc0e29c   \n",
       "308682              e7329a92             7b0ab77d             6bc0e29c   \n",
       "\n",
       "        action_categorical_6 action_categorical_7 action_list_0  ...  \\\n",
       "824897              59638795             e2538fca        IAB8-9  ...   \n",
       "300782              59638795             e2538fca       IAB22-2  ...   \n",
       "804692              59638795             31b31f57         IAB22  ...   \n",
       "1047296             59638795             e2538fca       IAB22-2  ...   \n",
       "308682              59638795             e2538fca       IAB20-6  ...   \n",
       "\n",
       "        creative_categorical_7 creative_categorical_8  creative_categorical_9  \\\n",
       "824897                     NaN               b6910b48                65dcab89   \n",
       "300782                     NaN               b6910b48                65dcab89   \n",
       "804692                     NaN               b6910b48                43c867fd   \n",
       "1047296                    NaN               b6910b48                65dcab89   \n",
       "308682                     NaN               b6910b48                65dcab89   \n",
       "\n",
       "         creative_height creative_width device_id device_id_type gender  \\\n",
       "824897              50.0          320.0  b67c4382       6324b367      m   \n",
       "300782             250.0          300.0  846cc147       6324b367    NaN   \n",
       "804692             480.0          320.0  17adf0a1       6324b367    NaN   \n",
       "1047296             50.0          320.0  4cd6a17e       c1d12c8e      m   \n",
       "308682              50.0          320.0  5dbec82c       6324b367      m   \n",
       "\n",
       "        has_video timezone_offset  \n",
       "824897      False             4.0  \n",
       "300782      False             1.0  \n",
       "804692      False             1.0  \n",
       "1047296     False             1.0  \n",
       "308682      False             1.0  \n",
       "\n",
       "[5 rows x 52 columns]"
      ]
     },
     "execution_count": 4,
     "metadata": {},
     "output_type": "execute_result"
    }
   ],
   "source": [
    "df.head()"
   ]
  },
  {
   "cell_type": "code",
   "execution_count": 5,
   "metadata": {
    "colab": {
     "base_uri": "https://localhost:8080/",
     "height": 34
    },
    "colab_type": "code",
    "executionInfo": {
     "elapsed": 772,
     "status": "ok",
     "timestamp": 1540842272504,
     "user": {
      "displayName": "Gaston D",
      "photoUrl": "",
      "userId": "10561704506045505038"
     },
     "user_tz": 180
    },
    "id": "oRpwlEWkuwrq",
    "outputId": "b7dace03-e63f-4d1d-fbe2-6d628d8d588e"
   },
   "outputs": [
    {
     "data": {
      "text/plain": [
       "(7780129, 52)"
      ]
     },
     "execution_count": 5,
     "metadata": {},
     "output_type": "execute_result"
    }
   ],
   "source": [
    "df.shape"
   ]
  },
  {
   "cell_type": "code",
   "execution_count": 6,
   "metadata": {
    "colab": {
     "base_uri": "https://localhost:8080/",
     "height": 425
    },
    "colab_type": "code",
    "executionInfo": {
     "elapsed": 18401,
     "status": "ok",
     "timestamp": 1540842291026,
     "user": {
      "displayName": "Gaston D",
      "photoUrl": "",
      "userId": "10561704506045505038"
     },
     "user_tz": 180
    },
    "id": "xx9g8fHDFuSk",
    "outputId": "8761e303-cdc5-4012-f6d4-93c7cd2a7f3b"
   },
   "outputs": [
    {
     "data": {
      "text/plain": [
       "<matplotlib.axes._subplots.AxesSubplot at 0x1af2db9ef48>"
      ]
     },
     "execution_count": 6,
     "metadata": {},
     "output_type": "execute_result"
    },
    {
     "data": {
      "image/png": "[encoded data removed]",
      "text/plain": [
       "<Figure size 432x288 with 2 Axes>"
      ]
     },
     "metadata": {
      "needs_background": "light"
     },
     "output_type": "display_data"
    }
   ],
   "source": [
    "corr=df.corr()\n",
    "sns.heatmap(corr,\n",
    "            center=0,\n",
    "            square=True,\n",
    "            linewidths=.5,\n",
    "            #cbar_kws={\"shrink\": .5}\n",
    "           )"
   ]
  },
  {
   "cell_type": "markdown",
   "metadata": {
    "colab_type": "text",
    "id": "4fJ9vdk6k-nK"
   },
   "source": [
    "**Resumen de campos con NaNs**"
   ]
  },
  {
   "cell_type": "code",
   "execution_count": 7,
   "metadata": {
    "colab": {
     "base_uri": "https://localhost:8080/",
     "height": 927
    },
    "colab_type": "code",
    "executionInfo": {
     "elapsed": 83975,
     "status": "ok",
     "timestamp": 1540842375148,
     "user": {
      "displayName": "Gaston D",
      "photoUrl": "",
      "userId": "10561704506045505038"
     },
     "user_tz": 180
    },
    "id": "IlpmUvHeK7HO",
    "outputId": "7a8ef9ef-156f-4b0c-9c11-f66853c9d018"
   },
   "outputs": [
    {
     "data": {
      "application/vnd.jupyter.widget-view+json": {
       "model_id": "",
       "version_major": 2,
       "version_minor": 0
      },
      "text/plain": [
       "HBox(children=(FloatProgress(value=0.0, max=52.0), HTML(value='')))"
      ]
     },
     "metadata": {},
     "output_type": "display_data"
    },
    {
     "name": "stdout",
     "output_type": "stream",
     "text": [
      "\r"
     ]
    }
   ],
   "source": [
    "def resumen_campos(df):\n",
    "  dict_campos={}\n",
    "  for col in tqdm(list(df.columns),leave=False):\n",
    "    unicos=len(df[col].unique())\n",
    "    nans=sum(df[col].isna())\n",
    "    tipo=df[col].dtype\n",
    "    el= (df.loc[~df[col].isna(),col].head(1)).values\n",
    "    dict_campos[col]={'Valores Unicos': unicos,\n",
    "                      'NaNs':           nans,\n",
    "                      'Tipo':           tipo,\n",
    "                      'Elemento':       el}\n",
    "  return pd.DataFrame.from_dict(dict_campos,orient='index')\n",
    "    \n",
    "resumen_campos(df)\n",
    "del df"
   ]
  },
  {
   "cell_type": "code",
   "execution_count": 8,
   "metadata": {
    "colab": {},
    "colab_type": "code",
    "id": "dJhuWwbfpR4l"
   },
   "outputs": [
    {
     "data": {
      "application/vnd.jupyter.widget-view+json": {
       "model_id": "",
       "version_major": 2,
       "version_minor": 0
      },
      "text/plain": [
       "HBox(children=(FloatProgress(value=0.0, max=7.0), HTML(value='')))"
      ]
     },
     "metadata": {},
     "output_type": "display_data"
    },
    {
     "name": "stdout",
     "output_type": "stream",
     "text": [
      "\n",
      " df (7780129, 6)\n"
     ]
    },
    {
     "data": {
      "text/html": [
       "<div>\n",
       "<style scoped>\n",
       "    .dataframe tbody tr th:only-of-type {\n",
       "        vertical-align: middle;\n",
       "    }\n",
       "\n",
       "    .dataframe tbody tr th {\n",
       "        vertical-align: top;\n",
       "    }\n",
       "\n",
       "    .dataframe thead th {\n",
       "        text-align: right;\n",
       "    }\n",
       "</style>\n",
       "<table border=\"1\" class=\"dataframe\">\n",
       "  <thead>\n",
       "    <tr style=\"text-align: right;\">\n",
       "      <th></th>\n",
       "      <th>n_raw</th>\n",
       "      <th>n_porc</th>\n",
       "      <th>len</th>\n",
       "    </tr>\n",
       "  </thead>\n",
       "  <tbody>\n",
       "    <tr>\n",
       "      <th>ctr_15.zip</th>\n",
       "      <td>1239524</td>\n",
       "      <td>1115571</td>\n",
       "      <td>1115571</td>\n",
       "    </tr>\n",
       "    <tr>\n",
       "      <th>ctr_16.zip</th>\n",
       "      <td>1092413</td>\n",
       "      <td>983171</td>\n",
       "      <td>2098742</td>\n",
       "    </tr>\n",
       "    <tr>\n",
       "      <th>ctr_17.zip</th>\n",
       "      <td>1093607</td>\n",
       "      <td>984246</td>\n",
       "      <td>3082988</td>\n",
       "    </tr>\n",
       "    <tr>\n",
       "      <th>ctr_18.zip</th>\n",
       "      <td>1013581</td>\n",
       "      <td>912222</td>\n",
       "      <td>3995210</td>\n",
       "    </tr>\n",
       "    <tr>\n",
       "      <th>ctr_19.zip</th>\n",
       "      <td>1326180</td>\n",
       "      <td>1193562</td>\n",
       "      <td>5188772</td>\n",
       "    </tr>\n",
       "    <tr>\n",
       "      <th>ctr_20.zip</th>\n",
       "      <td>1356066</td>\n",
       "      <td>1220459</td>\n",
       "      <td>6409231</td>\n",
       "    </tr>\n",
       "    <tr>\n",
       "      <th>ctr_21.zip</th>\n",
       "      <td>1523221</td>\n",
       "      <td>1370898</td>\n",
       "      <td>7780129</td>\n",
       "    </tr>\n",
       "  </tbody>\n",
       "</table>\n",
       "</div>"
      ],
      "text/plain": [
       "              n_raw   n_porc      len\n",
       "ctr_15.zip  1239524  1115571  1115571\n",
       "ctr_16.zip  1092413   983171  2098742\n",
       "ctr_17.zip  1093607   984246  3082988\n",
       "ctr_18.zip  1013581   912222  3995210\n",
       "ctr_19.zip  1326180  1193562  5188772\n",
       "ctr_20.zip  1356066  1220459  6409231\n",
       "ctr_21.zip  1523221  1370898  7780129"
      ]
     },
     "execution_count": 8,
     "metadata": {},
     "output_type": "execute_result"
    }
   ],
   "source": [
    "def calcular_estadisticos():\n",
    "  lst_numericas =['auction_age','auction_bidfloor','auction_time','creative_height','creative_width','timezone_offset']\n",
    "  \n",
    "  df = pd.DataFrame()\n",
    "  porcentaje = 0.90\n",
    "  ans_dict={}\n",
    "  for x in tqdm(archivos_train,leave=False):\n",
    "    if x == 'ctr_test_labeled.zip':\n",
    "      df_i = pd.read_csv('./' + x ,usecols=lst_numericas)\n",
    "      n_raw = df_i.shape[0]\n",
    "      n_porc = int(n_raw*porcentaje)\n",
    "\n",
    "      df_test = df_i.sample(n_porc,random_state=10)\n",
    "      ans_dict[x] = {'n_raw':n_raw,\n",
    "                     'n_porc':n_porc,\n",
    "                     'len':df.shape[0]}\n",
    "\n",
    "    else:  \n",
    "      df_i = pd.read_csv('./' + x ,usecols=lst_numericas)\n",
    "      n_raw = df_i.shape[0]\n",
    "      n_porc = int(n_raw*porcentaje)\n",
    "\n",
    "      df = pd.concat([df,df_i.sample(n_porc,random_state=10)], axis=0)\n",
    "      ans_dict[x] = {'n_raw':n_raw,\n",
    "                     'n_porc':n_porc,\n",
    "                     'len':df.shape[0]}\n",
    "\n",
    "    del df_i, n_raw, n_porc\n",
    "\n",
    "  print('\\n','df',df.shape)\n",
    "  # print('df_test', df_test.shape)\n",
    "\n",
    "  df_estadisticas=df.describe().loc[['mean','std'],:]\n",
    "  df_estadisticas.to_csv('df_estadisticas.csv')\n",
    "  return pd.DataFrame.from_dict(ans_dict,orient='index')\n",
    "#   files.download('df_estadisticas.csv')\n",
    "  \n",
    "calcular_estadisticos()"
   ]
  },
  {
   "cell_type": "markdown",
   "metadata": {
    "colab_type": "text",
    "id": "s3r2y2j31G-H"
   },
   "source": [
    "# SGD"
   ]
  },
  {
   "cell_type": "markdown",
   "metadata": {
    "colab_type": "text",
    "id": "O-LScQoN1Qlb"
   },
   "source": [
    "## Librería y comentarios iniciales"
   ]
  },
  {
   "cell_type": "code",
   "execution_count": 9,
   "metadata": {
    "colab": {},
    "colab_type": "code",
    "id": "H-SpUTnfrdG1"
   },
   "outputs": [],
   "source": [
    "import shelve\n",
    "import operator\n",
    "\n",
    "# import multiprocessing as mp\n",
    "import threading as mp\n",
    "import numpy as np\n",
    "import pandas as pd\n",
    "\n",
    "from collections import Counter\n",
    "from functools import reduce\n",
    "from itertools import count, product as iproduct\n",
    "\n",
    "from sklearn.pipeline import Pipeline\n",
    "from sklearn.preprocessing import FunctionTransformer\n",
    "from sklearn.feature_extraction import FeatureHasher\n",
    "from sklearn.linear_model import SGDClassifier\n",
    "from sklearn.metrics import log_loss, r2_score\n",
    "\n",
    "from sklearn.metrics import classification_report, recall_score, precision_score, roc_auc_score\n",
    "from sklearn.utils import resample\n",
    "from tqdm import tqdm\n",
    "# from tqdm.notebook import tqdm\n",
    "import pickle\n",
    "import random"
   ]
  },
  {
   "cell_type": "markdown",
   "metadata": {
    "colab_type": "text",
    "id": "O6aPPwz-rdGz"
   },
   "source": [
    "**Addenda et corrigenda**\n",
    "\n",
    "1. Los minibatches se leen directamente del archivo en lugar de cargar el archivo en memoria y luego obtener los minibatches del dataframe. De esta forma evitamos crear un dataframe muy grande (peor, uno por job). En realidad, tampoco es conveniente leer cada minibatch desde el archivo, por lo que leemos varios al mismo tiempo (ver parámetro de configuración `n_batches`). \n",
    "\n",
    "2. Al tener todo el código en una notebook resulta más fácil serializar (\"picklear\") y deserializar instancias de las clases `Extractor` y `Vectorizer`, por lo que estoy guardando en el shelve de salida cada pipeline entero en lugar de únicamente su parametrización. De esta forma no necesitan refitearlo si lo van a usar después.\n",
    "\n",
    "3. Soporta múltiples archivos de entrada.\n",
    "\n",
    "4. El código de borrado inicial de la base de salida debería soportar ahora otras implementaciones de shelve (además de gdbm)."
   ]
  },
  {
   "cell_type": "markdown",
   "metadata": {
    "colab_type": "text",
    "id": "MEjqIQTmrdG6"
   },
   "source": [
    "## Configuración\n",
    "\n",
    "* `in_paths` es la lista de archivos de entrada.\n",
    "\n",
    "* `out_path` es el shelve donde se guardan los scores y pipelines resultantes del fit.\n",
    "\n",
    "* `n_jobs` es el número de procesos a correr en paralelo.\n",
    "\n",
    "* `use_r2` debe ser `True` para usar score $R^2$ o `False` para $-logloss$.\n",
    "\n",
    "* `batch_size` es el tamaño de cada minibatch.\n",
    "\n",
    "* `n_batches` es la cantidad de minibatches que se leen al mismo tiempo desde el archivo de entrada.\n",
    "\n",
    "* `drop_scores` es el porcentaje de scores de minibatches iniciales a descartar. Con el resto se calcula el score medio.\n",
    "\n",
    "* `grid` es una lista de diccionarios cada uno de los cuales tiene tres entradas (`extractor`, `vectorizer`, `classifier`) cuyos valores son, a su vez, diccionarios indicando parámetros para la etapa correspondiente del pipeline."
   ]
  },
  {
   "cell_type": "code",
   "execution_count": 10,
   "metadata": {
    "colab": {},
    "colab_type": "code",
    "id": "X33VqcJ0rdG7"
   },
   "outputs": [],
   "source": [
    "in_paths = [f for f in archivos_train]\n",
    "\n",
    "balance_labels = False   #Se puede cambiar para elegir entre balancear la data (0 y 1) o hacer un DownSample\n",
    "\n",
    "porcentaje = 0.25\n",
    "\n",
    "out_path = 'models.db'\n",
    "\n",
    "n_jobs = 4\n",
    "\n",
    "use_r2 = True\n",
    "\n",
    "batch_size = 20000\n",
    "\n",
    "n_batches = 20\n",
    "\n",
    "drop_scores = 0.7\n",
    "\n",
    "filename = 'finalized_'\n",
    "\n",
    "df_estadisticas = pd.read_csv('df_estadisticas.csv')   #mean fila 0, std fila 1\n",
    "\n",
    "\n",
    "lst_listas         =['action_list_1','action_list_2','auction_list_0']\n",
    "lst_numericas      =['auction_age','auction_bidfloor','auction_time','creative_height','creative_width','timezone_offset']\n",
    "lst_columnas       =list(pd.read_csv(in_paths[0],nrows=5).columns)[1:]\n",
    "\n",
    "features_01   = lst_columnas[:15]\n",
    "features_02   = ['auction_age','creative_height', 'creative_width', 'device_id', 'device_id_type', 'gender', 'has_video','timezone_offset']\n",
    "features_03   = ['device_id', 'device_id_type', 'has_video']\n",
    "features      = list(set(features_01)- set(lst_listas))\n",
    "\n",
    "grid = [dict(extractor=dict(features=features),\n",
    "             vectorizer=dict(n_features=n_features, degree=degree),\n",
    "             classifier=dict(loss='log', max_iter=1000, tol=1e-3,\n",
    "                             l1_ratio=l1_ratio, alpha=alpha))\n",
    "        for features in [features]\n",
    "        for n_features in [2**20]   #[2**20, 2**21, 2**22]\n",
    "        for degree in [1]\n",
    "        for l1_ratio in [0.5]\n",
    "        for alpha in [0.0001]]  #[0.0001, 0.001, 0.01, 0.1]\n",
    "\n",
    "\n",
    "\n",
    "#         for features in [features]\n",
    "#         for n_features in [2**20]   #[2**20, 2**21, 2**22]\n",
    "#         for degree in [1, 2]\n",
    "#         for l1_ratio in [0.15, 0.5, 0.85]\n",
    "#         for alpha in [0.0001, 0.001, 0.01, 0.1]]  #[0.0001, 0.001, 0.01, 0.1]"
   ]
  },
  {
   "cell_type": "code",
   "execution_count": 11,
   "metadata": {
    "colab": {
     "base_uri": "https://localhost:8080/",
     "height": 235
    },
    "colab_type": "code",
    "executionInfo": {
     "elapsed": 98473,
     "status": "ok",
     "timestamp": 1540859737500,
     "user": {
      "displayName": "Gaston D",
      "photoUrl": "",
      "userId": "10561704506045505038"
     },
     "user_tz": 180
    },
    "id": "Ftn8IbTJMfCH",
    "outputId": "3f9a30e4-5f2a-40af-8cfd-0192f13ad02d"
   },
   "outputs": [
    {
     "name": "stdout",
     "output_type": "stream",
     "text": [
      "ctr_15.zip 1239524 309881 309881\n",
      "ctr_16.zip 1092413 273103 582984\n",
      "ctr_17.zip 1093607 273401 856385\n",
      "ctr_18.zip 1013581 253395 1109780\n",
      "ctr_19.zip 1326180 331545 1441325\n",
      "ctr_20.zip 1356066 339016 1780341\n",
      "ctr_21.zip 1523221 380805 2161146\n",
      "\n",
      " df (2161146, 14)\n",
      "\n",
      " 0    2134790\n",
      "1      26356\n",
      "Name: Label, dtype: int64\n"
     ]
    }
   ],
   "source": [
    "def balancear_data(feat=features):\n",
    "\n",
    "  df = pd.DataFrame()\n",
    "#   porcentaje = p\n",
    "  for x in archivos_train:\n",
    "      df_i = pd.read_csv('./' + x ,usecols=['Label'] + feat)\n",
    "\n",
    "      # Separate majority and minority classes\n",
    "      df_majority = df_i[df_i['Label']==0]\n",
    "      len_majority= len(df_majority)\n",
    "      df_minority = df_i[df_i['Label']==1]\n",
    "      len_minority= len(df_minority)\n",
    " \n",
    "      # Downsample majority class\n",
    "      df_majority_downsampled = resample(df_majority, \n",
    "                                       replace=False,              # sample without replacement\n",
    "                                       n_samples=len_minority,     # to match minority class\n",
    "                                       random_state=10)            # reproducible results\n",
    " \n",
    "      # Combine minority class with downsampled majority class\n",
    "      df_i = resample(pd.concat([df_majority_downsampled, df_minority]), \n",
    "                      replace=False,               # sample with replacement\n",
    "                      n_samples=len_minority*2,    # to match majority class\n",
    "                      random_state=10)             # reproducible results\n",
    "      \n",
    "      df = pd.concat([df, df_i])\n",
    "      print(x,len_majority,len_minority,df.shape)\n",
    "\n",
    "  print('\\n','df',df.shape)\n",
    "  print('\\n',df['Label'].value_counts())\n",
    "  # print('df_test', df_test.shape)\n",
    "\n",
    "  df.to_csv('df_reducido.csv')\n",
    "#   files.download('df_estadisticas.csv')\n",
    "\n",
    "\n",
    "def reducir_data(feat=features, p=porcentaje):\n",
    "\n",
    "  df = pd.DataFrame()\n",
    "  porcentaje = p\n",
    "  for x in archivos_train:\n",
    "      df_i = pd.read_csv('./' + x ,usecols=['Label'] + feat)\n",
    "      n_raw = df_i.shape[0]\n",
    "      n_porc = int(n_raw*p)\n",
    "      \n",
    "      if p<1.0:\n",
    "        # Downsample\n",
    "        df_i = df_i.sample(n_porc,random_state=10)\n",
    "      df = pd.concat([df, df_i])\n",
    "      print (x, n_raw,n_porc,df.shape[0])\n",
    "      \n",
    "    \n",
    "  print('\\n','df',df.shape)\n",
    "  print('\\n',df['Label'].value_counts())\n",
    "  # print('df_test', df_test.shape)\n",
    "\n",
    "  df.to_csv('df_reducido.csv')\n",
    "#   files.download('df_estadisticas.csv')\n",
    "\n",
    "if balance_labels:\n",
    "  balancear_data(feat=features)\n",
    "  in_paths=['df_reducido.csv']\n",
    "else:\n",
    "  reducir_data(feat=features, p=porcentaje)\n",
    "  in_paths=['df_reducido.csv']\n",
    "  "
   ]
  },
  {
   "cell_type": "code",
   "execution_count": 12,
   "metadata": {
    "colab": {
     "base_uri": "https://localhost:8080/",
     "height": 34
    },
    "colab_type": "code",
    "executionInfo": {
     "elapsed": 939,
     "status": "ok",
     "timestamp": 1540859738516,
     "user": {
      "displayName": "Gaston D",
      "photoUrl": "",
      "userId": "10561704506045505038"
     },
     "user_tz": 180
    },
    "id": "2U0WXstFLz4x",
    "outputId": "a4d0c61a-e800-4ebe-c805-7c118ae34ed0"
   },
   "outputs": [
    {
     "data": {
      "text/plain": [
       "['df_reducido.csv']"
      ]
     },
     "execution_count": 12,
     "metadata": {},
     "output_type": "execute_result"
    }
   ],
   "source": [
    "in_paths"
   ]
  },
  {
   "cell_type": "code",
   "execution_count": 13,
   "metadata": {
    "colab": {
     "base_uri": "https://localhost:8080/",
     "height": 232
    },
    "colab_type": "code",
    "executionInfo": {
     "elapsed": 1977,
     "status": "ok",
     "timestamp": 1540859741176,
     "user": {
      "displayName": "Gaston D",
      "photoUrl": "",
      "userId": "10561704506045505038"
     },
     "user_tz": 180
    },
    "id": "j2D6B9gGPHaW",
    "outputId": "096724ba-f31e-4405-9ddd-ac7ba6b6379d"
   },
   "outputs": [
    {
     "data": {
      "text/html": [
       "<div>\n",
       "<style scoped>\n",
       "    .dataframe tbody tr th:only-of-type {\n",
       "        vertical-align: middle;\n",
       "    }\n",
       "\n",
       "    .dataframe tbody tr th {\n",
       "        vertical-align: top;\n",
       "    }\n",
       "\n",
       "    .dataframe thead th {\n",
       "        text-align: right;\n",
       "    }\n",
       "</style>\n",
       "<table border=\"1\" class=\"dataframe\">\n",
       "  <thead>\n",
       "    <tr style=\"text-align: right;\">\n",
       "      <th></th>\n",
       "      <th>Unnamed: 0</th>\n",
       "      <th>Label</th>\n",
       "      <th>action_categorical_0</th>\n",
       "      <th>action_categorical_1</th>\n",
       "      <th>action_categorical_2</th>\n",
       "      <th>action_categorical_3</th>\n",
       "      <th>action_categorical_4</th>\n",
       "      <th>action_categorical_5</th>\n",
       "      <th>action_categorical_6</th>\n",
       "      <th>action_categorical_7</th>\n",
       "      <th>action_list_0</th>\n",
       "      <th>auction_age</th>\n",
       "      <th>auction_bidfloor</th>\n",
       "      <th>auction_boolean_0</th>\n",
       "      <th>auction_boolean_1</th>\n",
       "    </tr>\n",
       "  </thead>\n",
       "  <tbody>\n",
       "    <tr>\n",
       "      <th>0</th>\n",
       "      <td>824897</td>\n",
       "      <td>1</td>\n",
       "      <td>604d011f</td>\n",
       "      <td>f71d2f9b</td>\n",
       "      <td>9e4f5826</td>\n",
       "      <td>2c66682b</td>\n",
       "      <td>c3ab0db6</td>\n",
       "      <td>79ceee49</td>\n",
       "      <td>59638795</td>\n",
       "      <td>e2538fca</td>\n",
       "      <td>IAB8-9</td>\n",
       "      <td>29.0</td>\n",
       "      <td>0.070000</td>\n",
       "      <td>47980dda</td>\n",
       "      <td>79ceee49</td>\n",
       "    </tr>\n",
       "    <tr>\n",
       "      <th>1</th>\n",
       "      <td>300782</td>\n",
       "      <td>0</td>\n",
       "      <td>9915ffee</td>\n",
       "      <td>d9eb38d8</td>\n",
       "      <td>c0f33c37</td>\n",
       "      <td>9ebdf82c</td>\n",
       "      <td>6825a9aa</td>\n",
       "      <td>6bc0e29c</td>\n",
       "      <td>59638795</td>\n",
       "      <td>e2538fca</td>\n",
       "      <td>IAB22-2</td>\n",
       "      <td>NaN</td>\n",
       "      <td>0.060000</td>\n",
       "      <td>47980dda</td>\n",
       "      <td>79ceee49</td>\n",
       "    </tr>\n",
       "    <tr>\n",
       "      <th>2</th>\n",
       "      <td>804692</td>\n",
       "      <td>0</td>\n",
       "      <td>11b7af3d</td>\n",
       "      <td>ac0f362d</td>\n",
       "      <td>2f2b9920</td>\n",
       "      <td>cb80abab</td>\n",
       "      <td>79ab88b6</td>\n",
       "      <td>6bc0e29c</td>\n",
       "      <td>59638795</td>\n",
       "      <td>31b31f57</td>\n",
       "      <td>IAB22</td>\n",
       "      <td>NaN</td>\n",
       "      <td>1.700680</td>\n",
       "      <td>47980dda</td>\n",
       "      <td>79ceee49</td>\n",
       "    </tr>\n",
       "    <tr>\n",
       "      <th>3</th>\n",
       "      <td>1047296</td>\n",
       "      <td>0</td>\n",
       "      <td>9915ffee</td>\n",
       "      <td>dc24b79b</td>\n",
       "      <td>7c0ac8b2</td>\n",
       "      <td>7ce4e1a3</td>\n",
       "      <td>c96ff6e9</td>\n",
       "      <td>6bc0e29c</td>\n",
       "      <td>59638795</td>\n",
       "      <td>e2538fca</td>\n",
       "      <td>IAB22-2</td>\n",
       "      <td>21.0</td>\n",
       "      <td>0.617284</td>\n",
       "      <td>47980dda</td>\n",
       "      <td>79ceee49</td>\n",
       "    </tr>\n",
       "    <tr>\n",
       "      <th>4</th>\n",
       "      <td>308682</td>\n",
       "      <td>0</td>\n",
       "      <td>c2e4f717</td>\n",
       "      <td>e709bbc0</td>\n",
       "      <td>eafe914f</td>\n",
       "      <td>e7329a92</td>\n",
       "      <td>7b0ab77d</td>\n",
       "      <td>6bc0e29c</td>\n",
       "      <td>59638795</td>\n",
       "      <td>e2538fca</td>\n",
       "      <td>IAB20-6</td>\n",
       "      <td>28.0</td>\n",
       "      <td>0.432099</td>\n",
       "      <td>47980dda</td>\n",
       "      <td>79ceee49</td>\n",
       "    </tr>\n",
       "  </tbody>\n",
       "</table>\n",
       "</div>"
      ],
      "text/plain": [
       "   Unnamed: 0  Label action_categorical_0 action_categorical_1  \\\n",
       "0      824897      1             604d011f             f71d2f9b   \n",
       "1      300782      0             9915ffee             d9eb38d8   \n",
       "2      804692      0             11b7af3d             ac0f362d   \n",
       "3     1047296      0             9915ffee             dc24b79b   \n",
       "4      308682      0             c2e4f717             e709bbc0   \n",
       "\n",
       "  action_categorical_2 action_categorical_3 action_categorical_4  \\\n",
       "0             9e4f5826             2c66682b             c3ab0db6   \n",
       "1             c0f33c37             9ebdf82c             6825a9aa   \n",
       "2             2f2b9920             cb80abab             79ab88b6   \n",
       "3             7c0ac8b2             7ce4e1a3             c96ff6e9   \n",
       "4             eafe914f             e7329a92             7b0ab77d   \n",
       "\n",
       "  action_categorical_5  action_categorical_6 action_categorical_7  \\\n",
       "0             79ceee49              59638795             e2538fca   \n",
       "1             6bc0e29c              59638795             e2538fca   \n",
       "2             6bc0e29c              59638795             31b31f57   \n",
       "3             6bc0e29c              59638795             e2538fca   \n",
       "4             6bc0e29c              59638795             e2538fca   \n",
       "\n",
       "  action_list_0  auction_age  auction_bidfloor auction_boolean_0  \\\n",
       "0        IAB8-9         29.0          0.070000          47980dda   \n",
       "1       IAB22-2          NaN          0.060000          47980dda   \n",
       "2         IAB22          NaN          1.700680          47980dda   \n",
       "3       IAB22-2         21.0          0.617284          47980dda   \n",
       "4       IAB20-6         28.0          0.432099          47980dda   \n",
       "\n",
       "  auction_boolean_1  \n",
       "0          79ceee49  \n",
       "1          79ceee49  \n",
       "2          79ceee49  \n",
       "3          79ceee49  \n",
       "4          79ceee49  "
      ]
     },
     "execution_count": 13,
     "metadata": {},
     "output_type": "execute_result"
    }
   ],
   "source": [
    "pd.read_csv('df_reducido.csv',nrows=10).head()"
   ]
  },
  {
   "cell_type": "code",
   "execution_count": 14,
   "metadata": {
    "colab": {
     "base_uri": "https://localhost:8080/",
     "height": 34
    },
    "colab_type": "code",
    "executionInfo": {
     "elapsed": 849,
     "status": "ok",
     "timestamp": 1540859742102,
     "user": {
      "displayName": "Gaston D",
      "photoUrl": "",
      "userId": "10561704506045505038"
     },
     "user_tz": 180
    },
    "id": "-wEUATAQ_uNR",
    "outputId": "337da24a-97c1-4e27-9b1f-e15b1db546a1"
   },
   "outputs": [
    {
     "data": {
      "text/plain": [
       "13"
      ]
     },
     "execution_count": 14,
     "metadata": {},
     "output_type": "execute_result"
    }
   ],
   "source": [
    "len(features)"
   ]
  },
  {
   "cell_type": "code",
   "execution_count": 15,
   "metadata": {
    "colab": {
     "base_uri": "https://localhost:8080/",
     "height": 34
    },
    "colab_type": "code",
    "executionInfo": {
     "elapsed": 802,
     "status": "ok",
     "timestamp": 1540859743013,
     "user": {
      "displayName": "Gaston D",
      "photoUrl": "",
      "userId": "10561704506045505038"
     },
     "user_tz": 180
    },
    "id": "hJqPBHiLPG2L",
    "outputId": "736091bd-2f5f-4f27-e2b5-bc2ce690b7c2"
   },
   "outputs": [
    {
     "data": {
      "text/plain": [
       "1"
      ]
     },
     "execution_count": 15,
     "metadata": {},
     "output_type": "execute_result"
    }
   ],
   "source": [
    "len(grid)"
   ]
  },
  {
   "cell_type": "code",
   "execution_count": 16,
   "metadata": {
    "colab": {
     "base_uri": "https://localhost:8080/",
     "height": 106
    },
    "colab_type": "code",
    "executionInfo": {
     "elapsed": 902,
     "status": "ok",
     "timestamp": 1540859744076,
     "user": {
      "displayName": "Gaston D",
      "photoUrl": "",
      "userId": "10561704506045505038"
     },
     "user_tz": 180
    },
    "id": "pH6BBWd-cva2",
    "outputId": "bed532bf-a9d9-4867-b8d2-a0999850427c"
   },
   "outputs": [
    {
     "data": {
      "text/html": [
       "<div>\n",
       "<style scoped>\n",
       "    .dataframe tbody tr th:only-of-type {\n",
       "        vertical-align: middle;\n",
       "    }\n",
       "\n",
       "    .dataframe tbody tr th {\n",
       "        vertical-align: top;\n",
       "    }\n",
       "\n",
       "    .dataframe thead th {\n",
       "        text-align: right;\n",
       "    }\n",
       "</style>\n",
       "<table border=\"1\" class=\"dataframe\">\n",
       "  <thead>\n",
       "    <tr style=\"text-align: right;\">\n",
       "      <th></th>\n",
       "      <th>Unnamed: 0</th>\n",
       "      <th>auction_age</th>\n",
       "      <th>auction_bidfloor</th>\n",
       "      <th>auction_time</th>\n",
       "      <th>creative_height</th>\n",
       "      <th>creative_width</th>\n",
       "      <th>timezone_offset</th>\n",
       "    </tr>\n",
       "  </thead>\n",
       "  <tbody>\n",
       "    <tr>\n",
       "      <th>0</th>\n",
       "      <td>mean</td>\n",
       "      <td>31.088194</td>\n",
       "      <td>0.517427</td>\n",
       "      <td>1.516300e+09</td>\n",
       "      <td>132.091622</td>\n",
       "      <td>319.963195</td>\n",
       "      <td>1.807443</td>\n",
       "    </tr>\n",
       "    <tr>\n",
       "      <th>1</th>\n",
       "      <td>std</td>\n",
       "      <td>9.960179</td>\n",
       "      <td>0.995130</td>\n",
       "      <td>1.786460e+05</td>\n",
       "      <td>127.307138</td>\n",
       "      <td>45.636699</td>\n",
       "      <td>1.888269</td>\n",
       "    </tr>\n",
       "  </tbody>\n",
       "</table>\n",
       "</div>"
      ],
      "text/plain": [
       "  Unnamed: 0  auction_age  auction_bidfloor  auction_time  creative_height  \\\n",
       "0       mean    31.088194          0.517427  1.516300e+09       132.091622   \n",
       "1        std     9.960179          0.995130  1.786460e+05       127.307138   \n",
       "\n",
       "   creative_width  timezone_offset  \n",
       "0      319.963195         1.807443  \n",
       "1       45.636699         1.888269  "
      ]
     },
     "execution_count": 16,
     "metadata": {},
     "output_type": "execute_result"
    }
   ],
   "source": [
    "df_estadisticas"
   ]
  },
  {
   "cell_type": "markdown",
   "metadata": {
    "colab_type": "text",
    "id": "QTDDsUtfrdHF"
   },
   "source": [
    "## Código principal\n",
    "\n",
    "Levanta varios procesos/jobs cada uno de los cuales corre la función `job` iterando sobre una parte de la grilla y fiteando un modelo por cada parametrización.\n",
    "\n",
    "Para ejecutarlo, correr la función `fit()` desde otra celda.\n",
    "\n",
    "Para inspeccionar los `n` mejores resultados, correr la función `results(n)` desde otra celda. Ojo que si `n` es grande se van a cargar muchos pipeline a la vez en memoria!"
   ]
  },
  {
   "cell_type": "code",
   "execution_count": 17,
   "metadata": {
    "colab": {},
    "colab_type": "code",
    "id": "cxYwx8PWrdHG"
   },
   "outputs": [],
   "source": [
    "class Extractor(FunctionTransformer):\n",
    "\n",
    "    def __init__(self, features):\n",
    "        self.features = features\n",
    "        super().__init__(self._extract, validate=False)\n",
    "\n",
    "    def _extract(self, X):\n",
    "        A = pd.DataFrame()\n",
    "        B = pd.DataFrame()\n",
    "        c_nulls = []\n",
    "        \n",
    "        for col in list(X.columns):\n",
    "          if col in lst_numericas:\n",
    "            A[col+'_null']=X.loc[:,col].isna()\n",
    "            media  = df_estadisticas.loc[0,col]\n",
    "            desvio = df_estadisticas.loc[1,col]\n",
    "            A[col] = ( X.loc[:,col] - media )  /  desvio\n",
    "#             A[col] = X.loc[:,col].fillna(X[col].mean())   #X[col].mean()\n",
    "            A[col] = X.loc[:,col].fillna(0)   #X[col].mean()\n",
    "            c_nulls += [col+'_null']\n",
    "          else:\n",
    "            B[col] = X[col].fillna('N/A')\n",
    "        X = pd.concat([A, B], axis=1)\n",
    "        \n",
    "        cols_ret = list(X.columns) + c_nulls\n",
    "        return X.loc[:].to_dict('records')\n",
    "#         return X.loc[:, self.features].to_dict('records')\n",
    "\n",
    "\n",
    "class Vectorizer(FeatureHasher):\n",
    "\n",
    "    def __init__(self, degree=2, n_features=2**20,\n",
    "                 num_types=[float, np.float64]):\n",
    "        self.degree = degree\n",
    "        self.num_types = num_types\n",
    "        super().__init__(n_features=n_features)\n",
    "\n",
    "    def transform(self, X):\n",
    "        return super().transform(map(self._encode, X))\n",
    "\n",
    "    def _encode(self, dic):\n",
    "        dic = {k if type(v) in self.num_types else f'{k}={v}':\n",
    "               float(v) if type(v) in self.num_types else 1\n",
    "               for k, v in dic.items()}\n",
    "        dic_keys = list(dic.keys())\n",
    "        for deg in range(2, self.degree + 1):\n",
    "            for term_keys in iproduct(dic_keys, repeat=deg):\n",
    "                term_names, term_facts = [], []\n",
    "                for k, n in Counter(term_keys).items():\n",
    "                    v = dic[k]\n",
    "                    if type(v) is int and n > 1:\n",
    "                        break\n",
    "                    term_names.append(k if n == 1 else f'{k}^{n}')\n",
    "                    term_facts.append(v**n)\n",
    "                else:  # No dummy feature was included more than once\n",
    "                    dic['*'.join(sorted(term_names))] = product(term_facts)\n",
    "        return dic\n",
    "\n",
    "# def lineas(in_paths):\n",
    "#   global dict_lineas\n",
    "#   dict_lineas = {}\n",
    "#   for f in in_paths:\n",
    "#     dict_lineas[f] = len(pd.read_csv(f))\n",
    "#   return\n",
    "    \n",
    "\n",
    "def product(iterable, start=1):\n",
    "    return reduce(operator.mul, iterable, start)\n",
    "\n",
    "\n",
    "def split(seq, n):\n",
    "    m, k = divmod(len(seq), n)\n",
    "    i = 0\n",
    "    for _ in range(n):\n",
    "        j = i + m + (1 if k > 0 else 0)\n",
    "        yield seq[i:j]\n",
    "        i = j\n",
    "        k -= 1\n",
    "\n",
    "\n",
    "def job(n_job):\n",
    "    for i, params in enumerate(list(split(grid, n_jobs))[n_job]):\n",
    "        extractor = Extractor(**params['extractor'])\n",
    "        vectorizer = Vectorizer(**params['vectorizer'])\n",
    "        classifier = SGDClassifier(**params['classifier'])\n",
    "        scores = []\n",
    "\n",
    "        for in_path in in_paths:\n",
    "            \n",
    "#             num_lines = dict_lineas[in_path] # Count the lines\n",
    "#             size = int(num_lines * 0.001) # Sample size - in this case ~10%\n",
    "#             skip_idx = random.sample(range(1, num_lines),\n",
    "#                                      num_lines - size,\n",
    "#                                      random_state=10) # The row indices to skip - make sure 0 is not included to keep the header!            \n",
    "\n",
    "            for j in count(0, batch_size * n_batches):\n",
    "                batches = pd.read_csv(in_path,\n",
    "                                      nrows= batch_size * n_batches,\n",
    "                                      skiprows= range(1, j + 1))               #Aca se podria hacer un skip rows de nos de filas random\n",
    "                if len(batches) == 0:\n",
    "                    break\n",
    "                for batch in tqdm(split(batches, n_batches)):\n",
    "                                  \n",
    "                    X = batch.drop('Label',axis=1)\n",
    "                    X = extractor.transform(batch)\n",
    "                    X = vectorizer.transform(X)\n",
    "                    y = batch.loc[:, 'Label']\n",
    "                    if j > 0:\n",
    "                        y_ = classifier.predict_proba(X)\n",
    "                        if use_r2:\n",
    "                            scores.append(r2_score(y, y_[:, 1]))\n",
    "#                             scores.append(precision_score(y, classifier.predict(X)))\n",
    "                        else:\n",
    "                            scores.append(-log_loss(y, y_))\n",
    "                    classifier.partial_fit(X, y, classes=[0, 1])\n",
    "            key = f'{n_job}-{i}'\n",
    "\n",
    "        pipe = Pipeline([('extractor', extractor),\n",
    "                         ('vectorizer', vectorizer),\n",
    "                         ('classifier', classifier)])\n",
    "        score = np.mean(scores[int(drop_scores * len(scores)):])\n",
    "        with lock:\n",
    "            with shelve.open(out_path) as out:\n",
    "                out[key] = pipe\n",
    "                scores = out['scores']\n",
    "                scores[key] = score\n",
    "                out['scores'] = scores\n",
    "        print(f'Fitted {key} with score {score} and params {params}\\n\\n')\n",
    "        \n",
    "        if len(scores)==0:\n",
    "            pickle.dump(extractor, open(filename+'extractor.sav', 'wb'))\n",
    "            pickle.dump(vectorizer, open(filename+'vectorizer.sav', 'wb'))\n",
    "            pickle.dump(classifier, open(filename+'classifier.sav', 'wb'))\n",
    "        elif scores[key] >= results(1)[0][0]:   #Se guarda el modelo entrenado\n",
    "            pickle.dump(extractor, open(filename+'extractor.sav', 'wb'))\n",
    "            pickle.dump(vectorizer, open(filename+'vectorizer.sav', 'wb'))\n",
    "            pickle.dump(classifier, open(filename+'classifier.sav', 'wb'))\n",
    "#             \n",
    "#             files.download(filename+'extractor.sav') # then browse, select the files. It's then uploaded\n",
    "#             files.download(filename+'vectorizer.sav')\n",
    "#             files.download(filename+'classifier.sav')\n",
    "\n",
    "def fit():\n",
    "    print(f'Fitting grid of size {len(grid)}\\n\\n')\n",
    "#     lineas(in_paths)\n",
    "    with shelve.open(out_path, 'n') as out:  # Recrea la base\n",
    "        out['scores'] = {}\n",
    "    if n_jobs > 1:\n",
    "        procs = []\n",
    "        for n_job in range(n_jobs):\n",
    "            proc = mp.Thread(target=job, args=[n_job])\n",
    "#             proc = mp.Process(target=job, args=[n_job])\n",
    "            proc.start()\n",
    "            procs.append(proc)\n",
    "        for proc in procs:\n",
    "            proc.join()\n",
    "    else:\n",
    "        fit(0)\n",
    "    \n",
    "    # save the model to disk\n",
    "\n",
    "\n",
    "\n",
    "def results(n=5):\n",
    "    with lock:\n",
    "        with shelve.open(out_path) as out:\n",
    "            rank = sorted(((s, k) for k, s in out['scores'].items()),\n",
    "                          reverse=True)\n",
    "            return [(s, out[k]) for s, k in rank[:n]]\n",
    "\n",
    "\n",
    "lock = mp.Lock()"
   ]
  },
  {
   "cell_type": "markdown",
   "metadata": {
    "colab_type": "text",
    "id": "HLAxz3aWrdHK"
   },
   "source": [
    "## Fit y pickle"
   ]
  },
  {
   "cell_type": "code",
   "execution_count": 18,
   "metadata": {
    "colab": {
     "base_uri": "https://localhost:8080/",
     "height": 238
    },
    "colab_type": "code",
    "executionInfo": {
     "elapsed": 120094,
     "status": "ok",
     "timestamp": 1540859865514,
     "user": {
      "displayName": "Gaston D",
      "photoUrl": "",
      "userId": "10561704506045505038"
     },
     "user_tz": 180
    },
    "id": "62zkQmHCrdHL",
    "outputId": "3d376747-a949-4a48-e4c9-e3e9904daa41"
   },
   "outputs": [
    {
     "name": "stdout",
     "output_type": "stream",
     "text": [
      "Fitting grid of size 1\n",
      "\n",
      "\n"
     ]
    },
    {
     "name": "stderr",
     "output_type": "stream",
     "text": [
      "20it [00:13,  1.43it/s]\n",
      "20it [00:13,  1.46it/s]\n",
      "20it [00:13,  1.46it/s]\n",
      "20it [00:13,  1.44it/s]\n",
      "20it [00:14,  1.38it/s]\n",
      "20it [00:06,  3.17it/s]\n"
     ]
    },
    {
     "name": "stdout",
     "output_type": "stream",
     "text": [
      "Fitted 0-0 with score 0.9985139558506154 and params {'extractor': {'features': ['auction_boolean_0', 'action_categorical_0', 'action_categorical_2', 'auction_age', 'action_categorical_1', 'auction_bidfloor', 'action_categorical_4', 'action_categorical_5', 'action_categorical_7', 'action_categorical_6', 'auction_boolean_1', 'action_list_0', 'action_categorical_3']}, 'vectorizer': {'n_features': 1048576, 'degree': 1}, 'classifier': {'loss': 'log', 'max_iter': 1000, 'tol': 0.001, 'l1_ratio': 0.5, 'alpha': 0.0001}}\n",
      "\n",
      "\n"
     ]
    }
   ],
   "source": [
    "# Recordar que esta función queda corriendo en background\n",
    "fit()"
   ]
  },
  {
   "cell_type": "code",
   "execution_count": 31,
   "metadata": {
    "colab": {
     "base_uri": "https://localhost:8080/",
     "height": 34
    },
    "colab_type": "code",
    "executionInfo": {
     "elapsed": 847,
     "status": "ok",
     "timestamp": 1540859866449,
     "user": {
      "displayName": "Gaston D",
      "photoUrl": "",
      "userId": "10561704506045505038"
     },
     "user_tz": 180
    },
    "id": "Ga5cxG41rdHR",
    "outputId": "21214697-3343-48a6-950c-64a183dbcc24"
   },
   "outputs": [
    {
     "data": {
      "text/plain": [
       "0.9985139558506154"
      ]
     },
     "execution_count": 31,
     "metadata": {},
     "output_type": "execute_result"
    }
   ],
   "source": [
    "# Ojo que si n es grande se van a cargar\n",
    "# muchos pipeline a la vez en memoria!\n",
    "results(3)[0][0]"
   ]
  },
  {
   "cell_type": "code",
   "execution_count": 32,
   "metadata": {
    "colab": {},
    "colab_type": "code",
    "id": "oW9hpMDLjq_p"
   },
   "outputs": [],
   "source": [
    "# files.download(filename+'extractor.sav') # then browse, select the files. It's then uploaded\n",
    "# files.download(filename+'vectorizer.sav')\n",
    "# files.download(filename+'classifier.sav')"
   ]
  },
  {
   "cell_type": "markdown",
   "metadata": {
    "colab_type": "text",
    "id": "OSZQMVG3_aWf"
   },
   "source": [
    "## Resultados"
   ]
  },
  {
   "cell_type": "code",
   "execution_count": 33,
   "metadata": {
    "colab": {
     "base_uri": "https://localhost:8080/",
     "height": 67
    },
    "colab_type": "code",
    "executionInfo": {
     "elapsed": 3023,
     "status": "ok",
     "timestamp": 1540843019356,
     "user": {
      "displayName": "Gaston D",
      "photoUrl": "",
      "userId": "10561704506045505038"
     },
     "user_tz": 180
    },
    "id": "4ymD31ZTsXGp",
    "outputId": "f1bbbe16-099f-464c-8ced-b00d3476807b"
   },
   "outputs": [],
   "source": [
    "archivos_pipe=['finalized_extractor.sav',\n",
    "               'finalized_vectorizer.sav',\n",
    "               'finalized_classifier.sav']"
   ]
  },
  {
   "cell_type": "code",
   "execution_count": 34,
   "metadata": {
    "colab": {},
    "colab_type": "code",
    "id": "mKBJcyoz8mL-"
   },
   "outputs": [],
   "source": [
    "# load the model from disk\n",
    "extractor  = pickle.load(open(filename+'extractor.sav', 'rb'))\n",
    "vectorizer = pickle.load(open(filename+'vectorizer.sav', 'rb'))\n",
    "classifier = pickle.load(open(filename+'classifier.sav', 'rb'))"
   ]
  },
  {
   "cell_type": "code",
   "execution_count": 35,
   "metadata": {
    "colab": {
     "base_uri": "https://localhost:8080/",
     "height": 34
    },
    "colab_type": "code",
    "executionInfo": {
     "elapsed": 9805,
     "status": "ok",
     "timestamp": 1540859878264,
     "user": {
      "displayName": "Gaston D",
      "photoUrl": "",
      "userId": "10561704506045505038"
     },
     "user_tz": 180
    },
    "id": "6jV1Cy0NGsk9",
    "outputId": "79e480d2-1c22-4a63-905a-fc9a3ca937f1"
   },
   "outputs": [
    {
     "name": "stdout",
     "output_type": "stream",
     "text": [
      "ctr_test_labeled.zip  (1139639, 14)\n"
     ]
    }
   ],
   "source": [
    "df_test = pd.read_csv('ctr_test_labeled.zip',usecols=['Label'] + features)\n",
    "# df_test = pd.read_csv('df_reducido.csv',usecols=['Label'] + features)\n",
    "print('ctr_test_labeled.zip ',df_test.shape)\n",
    "porcentaje = 1.0\n",
    "if porcentaje<1.00:\n",
    "  n_raw = df_test.shape[0]\n",
    "  n_porc = int(n_raw*porcentaje)\n",
    "  df_test = df_test.sample(n_porc,random_state=10)"
   ]
  },
  {
   "cell_type": "code",
   "execution_count": 36,
   "metadata": {
    "colab": {
     "base_uri": "https://localhost:8080/",
     "height": 34
    },
    "colab_type": "code",
    "executionInfo": {
     "elapsed": 56041,
     "status": "ok",
     "timestamp": 1540859934368,
     "user": {
      "displayName": "Gaston D",
      "photoUrl": "",
      "userId": "10561704506045505038"
     },
     "user_tz": 180
    },
    "id": "FyPoDANccrUO",
    "outputId": "634c9f27-5b2d-441b-c965-295a1e1ff231"
   },
   "outputs": [
    {
     "name": "stdout",
     "output_type": "stream",
     "text": [
      "-0.9708854903403912\n"
     ]
    }
   ],
   "source": [
    "X_test    = df_test.drop('Label',axis=1)\n",
    "X_test    = extractor.transform(X_test)\n",
    "X_test    = vectorizer.transform(X_test)\n",
    "y_test    = df_test.loc[:, 'Label']\n",
    "\n",
    "y_test_   = classifier.predict_proba(X_test)\n",
    "y_pred    = classifier.predict(X_test)\n",
    "result    = r2_score(y_test, y_test_[:, 1])\n",
    "\n",
    "print(result)"
   ]
  },
  {
   "cell_type": "code",
   "execution_count": 37,
   "metadata": {
    "colab": {
     "base_uri": "https://localhost:8080/",
     "height": 286
    },
    "colab_type": "code",
    "executionInfo": {
     "elapsed": 797,
     "status": "ok",
     "timestamp": 1540859935258,
     "user": {
      "displayName": "Gaston D",
      "photoUrl": "",
      "userId": "10561704506045505038"
     },
     "user_tz": 180
    },
    "id": "mK_aHcLbILxD",
    "outputId": "0ef6a782-f4d6-4ef8-ac59-4921cb6daa68"
   },
   "outputs": [
    {
     "name": "stdout",
     "output_type": "stream",
     "text": [
      "mean y_proba(Label=1) =  0.16096477744384075 \n",
      "\n",
      "min y_proba(Label=1) =  0.07274791641903784 \n",
      "\n",
      "max y_proba(Label=1) =  0.9989162216027396 \n",
      "\n"
     ]
    },
    {
     "data": {
      "text/plain": [
       "[(1, 0.08983369910909131),\n",
       " (1, 0.19017312229409788),\n",
       " (1, 0.16986332754179778),\n",
       " (1, 0.17107989506485355),\n",
       " (1, 0.22858812893732458),\n",
       " (1, 0.1135693800336867),\n",
       " (1, 0.16210406327421437),\n",
       " (1, 0.16210406327421437),\n",
       " (1, 0.22858812893732458),\n",
       " (1, 0.1385977454629209)]"
      ]
     },
     "execution_count": 37,
     "metadata": {},
     "output_type": "execute_result"
    }
   ],
   "source": [
    "a=y_test_[y_test==1,1]\n",
    "print('mean y_proba(Label=1) = ',a.mean(),'\\n')\n",
    "print('min y_proba(Label=1) = ',a.min(),'\\n')\n",
    "print('max y_proba(Label=1) = ',a.max(),'\\n')\n",
    "\n",
    "list(zip(y_test[y_test==1][:10], y_test_[y_test==1,1][:10]))"
   ]
  },
  {
   "cell_type": "code",
   "execution_count": 38,
   "metadata": {
    "colab": {
     "base_uri": "https://localhost:8080/",
     "height": 286
    },
    "colab_type": "code",
    "executionInfo": {
     "elapsed": 759,
     "status": "ok",
     "timestamp": 1540859936158,
     "user": {
      "displayName": "Gaston D",
      "photoUrl": "",
      "userId": "10561704506045505038"
     },
     "user_tz": 180
    },
    "id": "1K1GwZbwgX8X",
    "outputId": "0465c286-a46d-474a-bc15-b9865d30aace"
   },
   "outputs": [
    {
     "name": "stdout",
     "output_type": "stream",
     "text": [
      "mean y_proba(Label=0) =  0.13653139306541437 \n",
      "\n",
      "min y_proba(Label=0) =  0.0031151051456722407 \n",
      "\n",
      "max y_proba(Label=0) =  0.9938041277464578 \n",
      "\n"
     ]
    },
    {
     "data": {
      "text/plain": [
       "[(0, 0.13926272020458863),\n",
       " (0, 0.12207583418166619),\n",
       " (0, 0.12321971456513517),\n",
       " (0, 0.09731172373905196),\n",
       " (0, 0.16926778987905358),\n",
       " (0, 0.1363991748267903),\n",
       " (0, 0.16210406327421437),\n",
       " (0, 0.17107989506485355),\n",
       " (0, 0.16208392752423229),\n",
       " (0, 0.10192747664664933)]"
      ]
     },
     "execution_count": 38,
     "metadata": {},
     "output_type": "execute_result"
    }
   ],
   "source": [
    "a=y_test_[y_test==0,1]\n",
    "print('mean y_proba(Label=0) = ',a.mean(),'\\n')\n",
    "print('min y_proba(Label=0) = ',a.min(),'\\n')\n",
    "print('max y_proba(Label=0) = ',a.max(),'\\n')\n",
    "\n",
    "list(zip(y_test[y_test==0][:10], y_test_[y_test==0,1][:10]))"
   ]
  },
  {
   "cell_type": "code",
   "execution_count": 39,
   "metadata": {
    "colab": {
     "base_uri": "https://localhost:8080/",
     "height": 34
    },
    "colab_type": "code",
    "executionInfo": {
     "elapsed": 1006,
     "status": "ok",
     "timestamp": 1540859937378,
     "user": {
      "displayName": "Gaston D",
      "photoUrl": "",
      "userId": "10561704506045505038"
     },
     "user_tz": 180
    },
    "id": "QLsLNSd8mLfC",
    "outputId": "aa85275b-5a92-4ae0-8b9e-dd9e9441712b"
   },
   "outputs": [
    {
     "data": {
      "text/plain": [
       "0.11141304347826086"
      ]
     },
     "execution_count": 39,
     "metadata": {},
     "output_type": "execute_result"
    }
   ],
   "source": [
    "precision_score(y_test, y_pred)"
   ]
  },
  {
   "cell_type": "code",
   "execution_count": 40,
   "metadata": {
    "colab": {
     "base_uri": "https://localhost:8080/",
     "height": 134
    },
    "colab_type": "code",
    "executionInfo": {
     "elapsed": 959,
     "status": "ok",
     "timestamp": 1540859994095,
     "user": {
      "displayName": "Gaston D",
      "photoUrl": "",
      "userId": "10561704506045505038"
     },
     "user_tz": 180
    },
    "id": "5Yv5HaqlZGjo",
    "outputId": "10c6d492-37b3-4cbd-8252-112d088a51eb"
   },
   "outputs": [
    {
     "name": "stdout",
     "output_type": "stream",
     "text": [
      "              precision    recall  f1-score   support\n",
      "\n",
      "           0    0.98413   0.99971   0.99186   1121523\n",
      "           1    0.11141   0.00226   0.00444     18116\n",
      "\n",
      "    accuracy                        0.98385   1139639\n",
      "   macro avg    0.54777   0.50099   0.49815   1139639\n",
      "weighted avg    0.97026   0.98385   0.97616   1139639\n",
      "\n"
     ]
    }
   ],
   "source": [
    "print(classification_report(y_test, y_pred,digits=5))"
   ]
  },
  {
   "cell_type": "code",
   "execution_count": 41,
   "metadata": {
    "colab": {
     "base_uri": "https://localhost:8080/",
     "height": 1124
    },
    "colab_type": "code",
    "executionInfo": {
     "elapsed": 7068,
     "status": "ok",
     "timestamp": 1540843137359,
     "user": {
      "displayName": "Gaston D",
      "photoUrl": "",
      "userId": "10561704506045505038"
     },
     "user_tz": 180
    },
    "id": "A64k2mZWNebE",
    "outputId": "27fcf783-5679-4f5c-b0eb-6bd636dda09a"
   },
   "outputs": [
    {
     "data": {
      "image/png": "[encoded data removed]",
      "text/plain": [
       "<Figure size 800x800 with 5 Axes>"
      ]
     },
     "metadata": {
      "needs_background": "light"
     },
     "output_type": "display_data"
    },
    {
     "name": "stdout",
     "output_type": "stream",
     "text": [
      "\n"
     ]
    },
    {
     "data": {
      "image/png": "[encoded data removed]",
      "text/plain": [
       "<Figure size 800x800 with 5 Axes>"
      ]
     },
     "metadata": {
      "needs_background": "light"
     },
     "output_type": "display_data"
    },
    {
     "name": "stdout",
     "output_type": "stream",
     "text": [
      "\n"
     ]
    }
   ],
   "source": [
    "import matplotlib.pyplot as plt\n",
    "import matplotlib.gridspec as gridspec\n",
    "import numpy as np\n",
    "alpha=[0.005,0.01]\n",
    "\n",
    "for x in [0,1]:\n",
    "  xpl = y_test_[y_test==x,1]\n",
    "  ypl = y_test_[y_test==x,1]\n",
    "\n",
    "  fig = plt.figure(figsize=(8,8),dpi=100)\n",
    "  plt.suptitle('PREDICCIÓN DE CLICKS (Label='+str(x)+')')\n",
    "  gs = gridspec.GridSpec(3, 3)\n",
    "  ax_main = plt.subplot(gs[1:3, :2])\n",
    "  ax_xDist = plt.subplot(gs[0, :2],sharex=ax_main)\n",
    "  ax_yDist = plt.subplot(gs[1:3, 2],sharey=ax_main)\n",
    "\n",
    "  ax_main.scatter(xpl,ypl,marker='+',alpha=alpha[x])\n",
    "  ax_main.set(xlabel=\"y\", ylabel=\"y\")\n",
    "\n",
    "  ax_xDist.hist(xpl,bins=100,align='mid')\n",
    "  ax_xDist.set(ylabel='count')\n",
    "  ax_xCumDist = ax_xDist.twinx()\n",
    "  ax_xCumDist.hist(xpl,bins=100,cumulative=True,histtype='step',density=True,align='mid')\n",
    "  ax_xCumDist.tick_params('y', colors='r')\n",
    "  ax_xCumDist.set_ylabel('cumulative',color='r')\n",
    "\n",
    "  ax_yDist.hist(ypl,bins=100,orientation='horizontal',align='mid')\n",
    "  ax_yDist.set(xlabel='count')\n",
    "  ax_yCumDist = ax_yDist.twiny()\n",
    "  ax_yCumDist.hist(ypl,bins=100,cumulative=True,histtype='step',density=True,align='mid',orientation='horizontal')\n",
    "  ax_yCumDist.tick_params('x', colors='r')\n",
    "  ax_yCumDist.set_xlabel('cumulative',color='r')\n",
    "\n",
    "  plt.show()\n",
    "  print('')"
   ]
  },
  {
   "cell_type": "code",
   "execution_count": 42,
   "metadata": {
    "colab": {
     "base_uri": "https://localhost:8080/",
     "height": 494
    },
    "colab_type": "code",
    "executionInfo": {
     "elapsed": 5770,
     "status": "ok",
     "timestamp": 1540843305666,
     "user": {
      "displayName": "Gaston D",
      "photoUrl": "",
      "userId": "10561704506045505038"
     },
     "user_tz": 180
    },
    "id": "ZGRki0VgODLr",
    "outputId": "cb0ca5bf-7d85-459a-df5f-24443d2da83d"
   },
   "outputs": [
    {
     "data": {
      "text/plain": [
       "<matplotlib.axes._subplots.AxesSubplot at 0x1af2c5ce8c8>"
      ]
     },
     "execution_count": 42,
     "metadata": {},
     "output_type": "execute_result"
    },
    {
     "data": {
      "image/png": "[encoded data removed]",
      "text/plain": [
       "<Figure size 2000x1000 with 1 Axes>"
      ]
     },
     "metadata": {
      "needs_background": "light"
     },
     "output_type": "display_data"
    }
   ],
   "source": [
    "L0_pl = y_test_[y_test==0,1]\n",
    "L1_pl = y_test_[y_test==1,1]\n",
    "\n",
    "fig = plt.figure(figsize=(10,5),dpi=200)\n",
    "fig.suptitle('PREDICCIÓN DE CLICKS')\n",
    "sns.violinplot(data=L1_pl,vert=True,showmeans=True,color='g',label='Label 1',orient='h')\n",
    "sns.violinplot(data=L0_pl,vert=True,showmeans=True,color='r',label='Label 0',orient='h')"
   ]
  },
  {
   "cell_type": "code",
   "execution_count": null,
   "metadata": {},
   "outputs": [],
   "source": []
  }
 ],
 "metadata": {
  "colab": {
   "collapsed_sections": [],
   "name": "TP3-Clasificación.ipynb",
   "provenance": [],
   "toc_visible": true,
   "version": "0.3.2"
  },
  "kernelspec": {
   "display_name": "Python 3",
   "language": "python",
   "name": "python3"
  },
  "language_info": {
   "codemirror_mode": {
    "name": "ipython",
    "version": 3
   },
   "file_extension": ".py",
   "mimetype": "text/x-python",
   "name": "python",
   "nbconvert_exporter": "python",
   "pygments_lexer": "ipython3",
   "version": "3.7.6"
  },
  "toc-autonumbering": true
 },
 "nbformat": 4,
 "nbformat_minor": 4
}
